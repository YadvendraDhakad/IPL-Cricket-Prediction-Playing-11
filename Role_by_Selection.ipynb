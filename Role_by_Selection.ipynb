{
 "cells": [
  {
   "cell_type": "code",
   "execution_count": null,
   "id": "18ad67b1",
   "metadata": {},
   "outputs": [
    {
     "name": "stdout",
     "output_type": "stream",
     "text": [
      "\n",
      "Available Teams:\n",
      "1. Chennai Super Kings\n",
      "2. Deccan Chargers\n",
      "3. Delhi Capitals\n",
      "4. Gujarat Lions\n",
      "5. Gujarat Titans\n",
      "6. Kings XI Punjab\n",
      "7. Kochi Tuskers Kerala\n",
      "8. Kolkata Knight Riders\n",
      "9. Lucknow Super Giants\n",
      "10. Mumbai Indians\n",
      "11. Pune Warriors\n",
      "12. Rajasthan Royals\n",
      "13. Rising Pune Supergiants\n",
      "14. Royal Challengers Bangalore\n",
      "15. Sunrisers Hyderabad\n"
     ]
    },
    {
     "name": "stderr",
     "output_type": "stream",
     "text": [
      "/var/folders/3l/67y0958d03l9598gqq_b3f6m0000gn/T/ipykernel_25381/1429125008.py:4: DtypeWarning: Columns (12,13,14,15) have mixed types. Specify dtype option on import or set low_memory=False.\n",
      "  balls = pd.read_csv(\"clean_balls.csv\")\n"
     ]
    }
   ],
   "source": [
    "import pandas as pd\n",
    "\n",
    "# Load cleaned dataset\n",
    "balls = pd.read_csv(\"clean_balls.csv\")\n",
    "\n",
    "# Extract unique teams\n",
    "teams = sorted(balls[\"batting_team\"].dropna().unique())\n",
    "\n",
    "print(\"\\nAvailable Teams:\")\n",
    "for i, team in enumerate(teams, start=1):\n",
    "    print(f\"{i}. {team}\")\n",
    "\n",
    "choice_a = int(input(\"\\nSelect Team A (Enter number): \"))\n",
    "choice_b = int(input(\"Select Team B (Enter number): \"))\n",
    "\n",
    "TEAM_A = teams[choice_a - 1]\n",
    "TEAM_B = teams[choice_b - 1]\n",
    "\n",
    "print(f\"\\n✅ You selected: {TEAM_A} vs {TEAM_B}\")\n",
    "\n",
    "# Function to calculate role-based Best XI\n",
    "def get_best_xi(team_name, balls_df):\n",
    "    batting = balls_df[balls_df[\"batting_team\"] == team_name]\n",
    "    batting_scores = batting.groupby(\"batsman\").agg(runs=(\"batsman_runs\", \"sum\")).reset_index()\n",
    "\n",
    "    bowling = balls_df[balls_df[\"bowling_team\"] == team_name]\n",
    "    bowling_scores = bowling[bowling[\"is_wicket\"] == 1].groupby(\"bowler\").size().reset_index(name=\"wickets\")\n",
    "\n",
    "    data = pd.merge(batting_scores, bowling_scores, left_on=\"batsman\", right_on=\"bowler\", how=\"outer\").fillna(0)\n",
    "    data[\"player\"] = data[\"batsman\"]\n",
    "    data[\"runs\"] = data[\"runs\"]\n",
    "    data[\"wickets\"] = data[\"wickets\"]\n",
    "    \n",
    "    # Role classification\n",
    "    def assign_role(row):\n",
    "        if row[\"wickets\"] >= 50 and row[\"runs\"] < 500:\n",
    "            return \"Bowler\"\n",
    "        elif row[\"runs\"] >= 2000 and row[\"wickets\"] < 20:\n",
    "            return \"Batsman\"\n",
    "        elif row[\"runs\"] >= 1000 and row[\"wickets\"] >= 30:\n",
    "            return \"All-Rounder\"\n",
    "        else:\n",
    "            return \"Batsman\" if row[\"runs\"] > row[\"wickets\"] * 20 else \"Bowler\"\n",
    "\n",
    "    data[\"role\"] = data.apply(assign_role, axis=1)\n",
    "\n",
    "    # Picking XI with constraints\n",
    "    bowlers = data[data[\"role\"] == \"Bowler\"].nlargest(5, \"wickets\")\n",
    "    batsmen = data[data[\"role\"] == \"Batsman\"].nlargest(4, \"runs\")\n",
    "    all_rounders = data[data[\"role\"] == \"All-Rounder\"].nlargest(2, [\"runs\", \"wickets\"])\n",
    "\n",
    "    xi = pd.concat([bowlers, batsmen, all_rounders]).head(11)\n",
    "    return xi[[\"player\", \"role\", \"runs\", \"wickets\"]]\n",
    "\n",
    "# Generate Best XI for both teams\n",
    "best_xi_a = get_best_xi(TEAM_A, balls)\n",
    "best_xi_b = get_best_xi(TEAM_B, balls)\n",
    "\n",
    "print(f\"\\n🏏 Best XI - {TEAM_A}\")\n",
    "print(best_xi_a)\n",
    "\n",
    "print(f\"\\n🏏 Best XI - {TEAM_B}\")\n",
    "print(best_xi_b)\n"
   ]
  }
 ],
 "metadata": {
  "kernelspec": {
   "display_name": "Python 3",
   "language": "python",
   "name": "python3"
  },
  "language_info": {
   "codemirror_mode": {
    "name": "ipython",
    "version": 3
   },
   "file_extension": ".py",
   "mimetype": "text/x-python",
   "name": "python",
   "nbconvert_exporter": "python",
   "pygments_lexer": "ipython3",
   "version": "3.9.6"
  }
 },
 "nbformat": 4,
 "nbformat_minor": 5
}
