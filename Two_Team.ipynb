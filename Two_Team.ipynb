{
 "cells": [
  {
   "cell_type": "code",
   "execution_count": null,
   "id": "fa374e5c",
   "metadata": {},
   "outputs": [
    {
     "name": "stdout",
     "output_type": "stream",
     "text": [
      "\n",
      "Available Teams:\n",
      "1. Chennai Super Kings\n",
      "2. Deccan Chargers\n",
      "3. Delhi Capitals\n",
      "4. Gujarat Lions\n",
      "5. Gujarat Titans\n",
      "6. Kings XI Punjab\n",
      "7. Kochi Tuskers Kerala\n",
      "8. Kolkata Knight Riders\n",
      "9. Lucknow Super Giants\n",
      "10. Mumbai Indians\n",
      "11. Pune Warriors\n",
      "12. Rajasthan Royals\n",
      "13. Rising Pune Supergiants\n",
      "14. Royal Challengers Bangalore\n",
      "15. Sunrisers Hyderabad\n"
     ]
    },
    {
     "name": "stderr",
     "output_type": "stream",
     "text": [
      "/var/folders/3l/67y0958d03l9598gqq_b3f6m0000gn/T/ipykernel_25364/69741408.py:6: DtypeWarning: Columns (12,13,14,15) have mixed types. Specify dtype option on import or set low_memory=False.\n",
      "  balls = pd.read_csv(\"clean_balls.csv\")  # Make sure this exists\n"
     ]
    }
   ],
   "source": [
    "import pandas as pd\n",
    "\n",
    "# =========================\n",
    "# Load cleaned ball-by-ball data\n",
    "# =========================\n",
    "balls = pd.read_csv(\"clean_balls.csv\")  # Make sure this exists\n",
    "\n",
    "# =========================\n",
    "# Extract unique team names\n",
    "# =========================\n",
    "teams = sorted(balls[\"batting_team\"].dropna().unique())\n",
    "\n",
    "print(\"\\nAvailable Teams:\")\n",
    "for i, team in enumerate(teams, start=1):\n",
    "    print(f\"{i}. {team}\")\n",
    "\n",
    "# =========================\n",
    "# Take User Input\n",
    "# =========================\n",
    "choice_a = int(input(\"\\nSelect Team A (Enter number): \"))\n",
    "choice_b = int(input(\"Select Team B (Enter number): \"))\n",
    "\n",
    "TEAM_A = teams[choice_a - 1]\n",
    "TEAM_B = teams[choice_b - 1]\n",
    "\n",
    "print(f\"\\n✅ You selected: {TEAM_A} vs {TEAM_B}\")\n",
    "\n",
    "# =========================\n",
    "# Function to generate Best XI for a team\n",
    "# =========================\n",
    "def get_best_xi(team_name, balls_df):\n",
    "    batting = balls_df[balls_df[\"batting_team\"] == team_name]\n",
    "    batting_scores = batting.groupby(\"batsman\").agg(\n",
    "        runs_scored=(\"batsman_runs\", \"sum\"),\n",
    "        balls_faced=(\"batsman_runs\", \"count\")\n",
    "    ).reset_index()\n",
    "    batting_scores[\"strike_rate\"] = batting_scores[\"runs_scored\"] / batting_scores[\"balls_faced\"] * 100\n",
    "\n",
    "    bowling = balls_df[balls_df[\"bowling_team\"] == team_name]\n",
    "    bowling_wickets = bowling[bowling[\"is_wicket\"] == 1].groupby(\"bowler\").size().reset_index(name=\"wickets\")\n",
    "\n",
    "    merged = pd.merge(batting_scores, bowling_wickets, left_on=\"batsman\", right_on=\"bowler\", how=\"outer\")\n",
    "    merged = merged.fillna(0)\n",
    "\n",
    "    merged[\"overall_score\"] = merged[\"runs_scored\"] * 0.6 + merged[\"wickets\"] * 25\n",
    "\n",
    "    best_xi = merged.sort_values(\"overall_score\", ascending=False).head(11)\n",
    "    best_xi = best_xi[[\"batsman\", \"runs_scored\", \"wickets\", \"strike_rate\", \"overall_score\"]]\n",
    "    best_xi.columns = [\"player\", \"runs\", \"wickets\", \"strike_rate\", \"score\"]\n",
    "\n",
    "    return best_xi\n",
    "\n",
    "# =========================\n",
    "# Generate Best XI for Both Teams\n",
    "# =========================\n",
    "best_xi_a = get_best_xi(TEAM_A, balls)\n",
    "best_xi_b = get_best_xi(TEAM_B, balls)\n",
    "\n",
    "print(f\"\\n🏏 Best XI - {TEAM_A}\")\n",
    "print(best_xi_a)\n",
    "\n",
    "print(f\"\\n🏏 Best XI - {TEAM_B}\")\n",
    "print(best_xi_b)\n",
    "\n",
    "best_xi_a.to_csv(f\"best_xi_{TEAM_A.replace(' ', '_')}.csv\", index=False)\n",
    "best_xi_b.to_csv(f\"best_xi_{TEAM_B.replace(' ', '_')}.csv\", index=False)\n",
    "\n",
    "print(\"\\n✅ Files Saved!\")\n"
   ]
  },
  {
   "cell_type": "code",
   "execution_count": null,
   "id": "0eef02c0",
   "metadata": {},
   "outputs": [],
   "source": [
    "Chennai Super Kings\n",
    "Deccan Chargers"
   ]
  },
  {
   "cell_type": "code",
   "execution_count": null,
   "id": "66b0c3ba",
   "metadata": {},
   "outputs": [],
   "source": []
  }
 ],
 "metadata": {
  "kernelspec": {
   "display_name": "Python 3",
   "language": "python",
   "name": "python3"
  },
  "language_info": {
   "codemirror_mode": {
    "name": "ipython",
    "version": 3
   },
   "file_extension": ".py",
   "mimetype": "text/x-python",
   "name": "python",
   "nbconvert_exporter": "python",
   "pygments_lexer": "ipython3",
   "version": "3.9.6"
  }
 },
 "nbformat": 4,
 "nbformat_minor": 5
}
